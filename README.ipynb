{
 "cells": [
  {
   "cell_type": "markdown",
   "metadata": {
    "collapsed": true,
    "pycharm": {
     "name": "#%% md\n"
    }
   },
   "source": [
    "# Slots\n",
    "\n",
    "Modelling of slot- game.\n",
    "\n",
    "There is an output matrix $N \\times M$.\n",
    "\n",
    "There are $P$ items(symbols) corresponding for each column.\n",
    "The probability of the $i$-th item to be on the any row on the $j$-th\n",
    "column is equal $p_{i,j}$.\n",
    "\n",
    "The column is formed by the next rule:\n",
    "at first the bottom row is formed, then another symbol is generated\n",
    "on the upper row - this symbol cannot be the same that is on bottom row:\n",
    "so the probability of $i_1$-th item to be there is $p_{i_1}/(1-p_{i})$, where\n",
    "$i \\neq i_1$.\n",
    "\n",
    "The same way, the next symbol cannot equal to any of the previous\n",
    "ones, therefore, the probability of the $i2$-th item to be on the column is\n",
    "$p_{i_2}/(1-p_{i}-p_{i_1}))$.\n",
    "\n",
    "By continuing so on, the last probability is\n",
    "$p_{i_N}/(1-p_{i}-p_{i_1} -p_{i_{N-1}}))$.\n",
    "\n",
    "If there are same $l$ symbols in the first $K$ columns then the output result\n",
    "is $S_{l,K}$.\n"
   ]
  }
 ],
 "metadata": {
  "kernelspec": {
   "display_name": "Python 3",
   "language": "python",
   "name": "python3"
  },
  "language_info": {
   "codemirror_mode": {
    "name": "ipython",
    "version": 2
   },
   "file_extension": ".py",
   "mimetype": "text/x-python",
   "name": "python",
   "nbconvert_exporter": "python",
   "pygments_lexer": "ipython2",
   "version": "2.7.6"
  }
 },
 "nbformat": 4,
 "nbformat_minor": 0
}